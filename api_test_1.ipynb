{
 "cells": [
  {
   "cell_type": "code",
   "execution_count": 77,
   "metadata": {},
   "outputs": [],
   "source": [
    "import requests\n",
    "import json"
   ]
  },
  {
   "cell_type": "code",
   "execution_count": 78,
   "metadata": {},
   "outputs": [],
   "source": [
    "def ocr_file(file_name,overlay=False,api_key='19f07ed48088957',language='eng'):\n",
    "    payload={'isOverlayRequired':overlay,\n",
    "            'apikey':api_key,\n",
    "            'language':language}\n",
    "    with open(file_name,'rb') as f:\n",
    "        r=requests.post('https://api.ocr.space/parse/image',\n",
    "                       files={file_name:f},\n",
    "                       data=payload,\n",
    "                       )\n",
    "    return r"
   ]
  },
  {
   "cell_type": "code",
   "execution_count": 85,
   "metadata": {},
   "outputs": [],
   "source": [
    "def txt_extract(result=\" \"):\n",
    "    result=result.replace(\"\\r\",\"\")\n",
    "    result=result.replace(\"\\n\",\" \")\n",
    "    return result"
   ]
  },
  {
   "cell_type": "code",
   "execution_count": 88,
   "metadata": {},
   "outputs": [],
   "source": [
    "test_file = ocr_file(file_name='rrreboooootttt.png', language='eng')"
   ]
  },
  {
   "cell_type": "code",
   "execution_count": 89,
   "metadata": {},
   "outputs": [],
   "source": [
    "response=test_file.json()\n",
    "response=response['ParsedResults'][0]['ParsedText']"
   ]
  },
  {
   "cell_type": "code",
   "execution_count": 90,
   "metadata": {},
   "outputs": [
    {
     "name": "stdout",
     "output_type": "stream",
     "text": [
      "11 12 13 14 15 16 17 18 19 20 21 Novice Strikers Nullpointers Lifeline Green Bugs The Prodigies Think! The Null Set Tech Mates The Inevitables Elite Minds Anita Jose Jithu Blju Jeena Shaji Jobin J Puthettu DON CHRISTY MATHEW Jasna Suresh Ahas.V Muhammed Raneesh C M Anson Francis Arjun Raj Rony Paul Kandathil MAR BASELIOS COLLEGE OF ENGINEERING AND TECHNOLOGY Mangalam College of Engineering Amal Jyothi College of Engineering RAJIV GANDHI INSTITUTE OF TECHNOLOGY, KOTTAYAM JAI BHARATH COLLEGE OF MANAGEMENT AND ENGINEERING TECHNOLOGY Amrita Vishwa Vidyapeetham Government Engineering College , Kozhikode Jyothi Engineering College ST. THOMAS COLLEGE (Autonomous) THRISSUR Mangalam College of Engineering VISWAJYOTHI COLLEGE OF ENGINEERING AND TECHNOLOGY Thiruvananthapuram Kottayam Kottayam Kottayam Ernakulam Kollam Kozhikkode Thrissur Thrissur Kottayam Ernakulam Selected Selected Selected Selected Selected Selected Selected Selected Selected Selected Selected \n"
     ]
    }
   ],
   "source": [
    "response=txt_extract(response)\n",
    "print(response)"
   ]
  },
  {
   "cell_type": "code",
   "execution_count": null,
   "metadata": {},
   "outputs": [],
   "source": []
  },
  {
   "cell_type": "code",
   "execution_count": null,
   "metadata": {},
   "outputs": [],
   "source": []
  },
  {
   "cell_type": "code",
   "execution_count": 53,
   "metadata": {},
   "outputs": [],
   "source": []
  },
  {
   "cell_type": "code",
   "execution_count": null,
   "metadata": {},
   "outputs": [],
   "source": []
  },
  {
   "cell_type": "code",
   "execution_count": null,
   "metadata": {},
   "outputs": [],
   "source": []
  }
 ],
 "metadata": {
  "kernelspec": {
   "display_name": "Python 3",
   "language": "python",
   "name": "python3"
  },
  "language_info": {
   "codemirror_mode": {
    "name": "ipython",
    "version": 3
   },
   "file_extension": ".py",
   "mimetype": "text/x-python",
   "name": "python",
   "nbconvert_exporter": "python",
   "pygments_lexer": "ipython3",
   "version": "3.7.4"
  }
 },
 "nbformat": 4,
 "nbformat_minor": 2
}
